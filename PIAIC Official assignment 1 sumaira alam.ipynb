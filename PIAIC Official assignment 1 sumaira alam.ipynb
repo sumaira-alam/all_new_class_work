{
 "cells": [
  {
   "cell_type": "markdown",
   "metadata": {},
   "source": [
    "## 1. Calculate Area of a Circle"
   ]
  },
  {
   "cell_type": "markdown",
   "metadata": {},
   "source": [
    "#### Write a Python program which accepts the radius of a circle from the user and compute the area.\n",
    "###### Program Console Sample Output 1:\n",
    "###### Input Radius: 0.5\n",
    "###### Area of Circle with radius 0.5 is 0.7853981634"
   ]
  },
  {
   "cell_type": "code",
   "execution_count": 4,
   "metadata": {},
   "outputs": [
    {
     "name": "stdout",
     "output_type": "stream",
     "text": [
      "radius of circle0.5\n"
     ]
    }
   ],
   "source": [
    "r = float(input('radius of circle'))"
   ]
  },
  {
   "cell_type": "code",
   "execution_count": 5,
   "metadata": {},
   "outputs": [],
   "source": [
    "a=3.14*r**2"
   ]
  },
  {
   "cell_type": "code",
   "execution_count": 6,
   "metadata": {},
   "outputs": [
    {
     "name": "stdout",
     "output_type": "stream",
     "text": [
      "area of circle with radius0.5is 0.785\n"
     ]
    }
   ],
   "source": [
    "print(f'area of circle with radius{r}is {a}')"
   ]
  },
  {
   "cell_type": "markdown",
   "metadata": {},
   "source": [
    "## 2. Check Number either positive, negative or zero"
   ]
  },
  {
   "cell_type": "markdown",
   "metadata": {},
   "source": [
    "#### Write a Python program to check if a number is positive, negative or zero\n",
    "###### Program Console Sample Output 1:\n",
    "###### Enter Number: -1\n",
    "##### Negative Number Entered\n",
    "###### Program Console Sample Output 2:\n",
    "##### Integer: 3\n",
    "##### Positive Number Entered\n",
    "###### Program Console Sample Output 3:\n",
    "##### Integer: 0\n",
    "###### Zero Entered"
   ]
  },
  {
   "cell_type": "code",
   "execution_count": 11,
   "metadata": {},
   "outputs": [
    {
     "name": "stdout",
     "output_type": "stream",
     "text": [
      "enter any number-1\n",
      "negetive number entered\n"
     ]
    }
   ],
   "source": [
    "n = int(input('enter any number'))\n",
    "if n<=0:\n",
    "    print(\"negetive number entered\")\n",
    "elif n>=0:\n",
    "    print(\"positive number entered\")\n",
    "elif n==0:\n",
    "    print(\"zero entered\")   \n",
    "        "
   ]
  },
  {
   "cell_type": "markdown",
   "metadata": {},
   "source": [
    "# 3. Divisibility Check of two numbers"
   ]
  },
  {
   "cell_type": "code",
   "execution_count": null,
   "metadata": {},
   "outputs": [],
   "source": [
    "Write a Python program to check whether a number is completely divisible by another number. \n",
    "Accept two integer values form the user\n",
    "Program Console Sample Output 1:\n",
    "Enter numerator: 4\n",
    "Enter Denominator: 2\n",
    " Number 4 is Completely divisible by 2\n",
    " Program Console Sample Output 2:\n",
    " Enter numerator: 7\n",
    "\n",
    "Enter Denominator: 4\n",
    "Number 7 is not Completely divisible by 4"
   ]
  },
  {
   "cell_type": "code",
   "execution_count": 5,
   "metadata": {
    "scrolled": true
   },
   "outputs": [
    {
     "name": "stdout",
     "output_type": "stream",
     "text": [
      "enter numerator:4\n",
      "enter denominator:4\n",
      "number 4 is completely divisible by 4\n"
     ]
    }
   ],
   "source": [
    "a=int(input('enter numerator:'))\n",
    "b=int(input('enter denominator:'))\n",
    "if a % b == 0:\n",
    "    print(\"number {} is completely divisible by {}\".format(a,b))\n",
    "else:\n",
    "    print(\"number {} is not completely divisible by {}\".format(a,b))"
   ]
  },
  {
   "cell_type": "markdown",
   "metadata": {},
   "source": [
    "## 4. Calculate Volume of a sphere"
   ]
  },
  {
   "cell_type": "markdown",
   "metadata": {},
   "source": [
    "##### Write a Python program to get the volume of a sphere, please take the radius as input from user"
   ]
  },
  {
   "cell_type": "markdown",
   "metadata": {},
   "source": [
    "##### Program Console Output:\n",
    "##### Enter Radius of Sphere: 1\n",
    "###### Volume of the Sphere with Radius 1 is 4.18"
   ]
  },
  {
   "cell_type": "code",
   "execution_count": 25,
   "metadata": {},
   "outputs": [
    {
     "name": "stdout",
     "output_type": "stream",
     "text": [
      "enter radius of sphere:1\n"
     ]
    }
   ],
   "source": [
    "r = int(input('enter radius of sphere:'))"
   ]
  },
  {
   "cell_type": "code",
   "execution_count": 31,
   "metadata": {},
   "outputs": [
    {
     "name": "stdout",
     "output_type": "stream",
     "text": [
      "with radius 1 volume of sphere is4.1866666666666665\n"
     ]
    }
   ],
   "source": [
    "v = 4/3*3.14*r**3\n",
    "print(f'with radius {r} volume of sphere is{v}')"
   ]
  },
  {
   "cell_type": "markdown",
   "metadata": {},
   "source": [
    " 5. Copy string n times\n",
    " Write a Python program to get a string which is n (non-negative integer) copies of a given string.\n",
    " Program Console Output:\n",
    " Enter String: Hi\n",
    " How many copies of String you need: 4\n",
    "4 Copies of Hi are HiHiHiHi"
   ]
  },
  {
   "cell_type": "code",
   "execution_count": 2,
   "metadata": {},
   "outputs": [
    {
     "name": "stdout",
     "output_type": "stream",
     "text": [
      "enter string :Hi\n"
     ]
    }
   ],
   "source": [
    "s=str(input('enter string :'))"
   ]
  },
  {
   "cell_type": "code",
   "execution_count": 9,
   "metadata": {},
   "outputs": [
    {
     "name": "stdout",
     "output_type": "stream",
     "text": [
      "how many copies of string you need:4\n"
     ]
    }
   ],
   "source": [
    "a=str(input('how many copies of string you need:'))"
   ]
  },
  {
   "cell_type": "code",
   "execution_count": 10,
   "metadata": {},
   "outputs": [],
   "source": [
    "x=s * int(a)"
   ]
  },
  {
   "cell_type": "code",
   "execution_count": 11,
   "metadata": {},
   "outputs": [
    {
     "name": "stdout",
     "output_type": "stream",
     "text": [
      "4 copies of Hi are HiHiHiHi\n"
     ]
    }
   ],
   "source": [
    "print(f'{a} copies of {s} are {x}')"
   ]
  },
  {
   "cell_type": "code",
   "execution_count": null,
   "metadata": {},
   "outputs": [],
   "source": []
  },
  {
   "cell_type": "markdown",
   "metadata": {},
   "source": [
    " 6. Check if number is Even or Odd\n",
    " Write a Python program to find whether a given number (accept from the user) is even or odd, print out an appropriate message to the user\n",
    " Program Console Output 1:\n",
    " Enter Number: 4\n",
    " 4 is Even\n",
    " Program Console Output 2:\n",
    " Enter Number: 9\n",
    "9 is Odd"
   ]
  },
  {
   "cell_type": "code",
   "execution_count": 18,
   "metadata": {},
   "outputs": [
    {
     "name": "stdout",
     "output_type": "stream",
     "text": [
      "enter number: 4\n"
     ]
    }
   ],
   "source": [
    "n=int(input('enter number: '))"
   ]
  },
  {
   "cell_type": "code",
   "execution_count": 24,
   "metadata": {},
   "outputs": [
    {
     "name": "stdout",
     "output_type": "stream",
     "text": [
      "4 is even\n"
     ]
    }
   ],
   "source": [
    "if n%2==0:\n",
    "    print(f'{n} is even')\n",
    "else:\n",
    "    print(f'{n} is odd')"
   ]
  },
  {
   "cell_type": "code",
   "execution_count": 31,
   "metadata": {},
   "outputs": [
    {
     "name": "stdout",
     "output_type": "stream",
     "text": [
      "enter number:9\n"
     ]
    }
   ],
   "source": [
    "n=int(input('enter number:'))"
   ]
  },
  {
   "cell_type": "code",
   "execution_count": 32,
   "metadata": {},
   "outputs": [
    {
     "name": "stdout",
     "output_type": "stream",
     "text": [
      "9is odd\n"
     ]
    }
   ],
   "source": [
    "if n%2==0:\n",
    "    print(f'{n} is even')\n",
    "else:\n",
    "    print(f'{n}is odd')"
   ]
  },
  {
   "cell_type": "code",
   "execution_count": null,
   "metadata": {},
   "outputs": [],
   "source": []
  },
  {
   "cell_type": "markdown",
   "metadata": {},
   "source": [
    " 7. Vowel Tester\n",
    " Write a Python program to test whether a passed letter is a vowel or not\n",
    " Program Console Output 1:\n",
    " Enter a character: A\n",
    "Letter A is Vowel\n",
    " Program Console Output 2:\n",
    " Enter a character: e\n",
    "Letter e is Vowel\n",
    " Program Console Output 2:\n",
    "Enter a character: N\n",
    " Letter N is not Vowel"
   ]
  },
  {
   "cell_type": "code",
   "execution_count": 34,
   "metadata": {},
   "outputs": [
    {
     "name": "stdout",
     "output_type": "stream",
     "text": [
      "enter a character:A\n"
     ]
    }
   ],
   "source": [
    "v=str(input('enter a character:'))"
   ]
  },
  {
   "cell_type": "code",
   "execution_count": 41,
   "metadata": {},
   "outputs": [
    {
     "name": "stdout",
     "output_type": "stream",
     "text": [
      "letter A is vowel.\n"
     ]
    }
   ],
   "source": [
    "if v==\"a\" or v==\"e\" or v==\"i\" or v==\"o\" or v==\"u\" or v==\"A\" or v==\"E\" or v==\"I\" or v==\"O\" or v==\"U\":\n",
    "    print(f\"letter {v} is vowel.\")\n",
    "else :\n",
    "    print(f\"letter {v} is not vowel.\")"
   ]
  },
  {
   "cell_type": "code",
   "execution_count": 47,
   "metadata": {},
   "outputs": [
    {
     "name": "stdout",
     "output_type": "stream",
     "text": [
      "enter a character:h\n"
     ]
    }
   ],
   "source": [
    "v= str(input('enter a character:'))"
   ]
  },
  {
   "cell_type": "code",
   "execution_count": 48,
   "metadata": {},
   "outputs": [
    {
     "name": "stdout",
     "output_type": "stream",
     "text": [
      "letter h is not vowel.\n"
     ]
    }
   ],
   "source": [
    "if v==\"a\" or v==\"e\" or v==\"i\" or v==\"o\" or v==\"u\" or v==\"A\" or v==\"E\" or v==\"I\" or v==\"O\" or v==\"U\":\n",
    "    print(f\"letter {v} is vowel.\")\n",
    "else :\n",
    "    print(f\"letter {v} is not vowel.\")"
   ]
  },
  {
   "cell_type": "markdown",
   "metadata": {},
   "source": [
    "## 8. Triangle area\n",
    "### Write a Python program that will accept the base and height of a triangle and compute the area\n",
    "###### Reference:\n",
    "https://www.mathgoodies.com/lessons/vol1/area_triangle"
   ]
  },
  {
   "cell_type": "code",
   "execution_count": 22,
   "metadata": {},
   "outputs": [
    {
     "name": "stdout",
     "output_type": "stream",
     "text": [
      "enter base of triangle : 5\n"
     ]
    }
   ],
   "source": [
    "b=int(input(\"enter base of triangle : \"))"
   ]
  },
  {
   "cell_type": "code",
   "execution_count": 23,
   "metadata": {},
   "outputs": [
    {
     "name": "stdout",
     "output_type": "stream",
     "text": [
      "enter height of triangle : 7\n"
     ]
    }
   ],
   "source": [
    "h=int(input(\"enter height of triangle : \"))"
   ]
  },
  {
   "cell_type": "code",
   "execution_count": 24,
   "metadata": {},
   "outputs": [],
   "source": [
    "A= (h*b)/2"
   ]
  },
  {
   "cell_type": "code",
   "execution_count": 25,
   "metadata": {},
   "outputs": [
    {
     "name": "stdout",
     "output_type": "stream",
     "text": [
      "area of triangle with base 5 and height 7 is area 17.5\n"
     ]
    }
   ],
   "source": [
    "print(f'area of triangle with base {b} and height {h} is area {A}' )"
   ]
  },
  {
   "cell_type": "markdown",
   "metadata": {},
   "source": [
    "## 9. Calculate Interest\n",
    "### Write a Python program to compute the future value of a specified principal amount, rate of interest, and a number of years\n",
    "#### Program Console Sample 1:\n",
    "##### Please enter principal amount: 10000\n",
    "###### Please Enter Rate of interest in %: 0.1\n",
    "###### Enter number of years for investment: 5\n",
    "###### After 5 years your principal amount 10000 over an interest rate of 0.1 % will be 16105.1"
   ]
  },
  {
   "cell_type": "code",
   "execution_count": 26,
   "metadata": {},
   "outputs": [
    {
     "name": "stdout",
     "output_type": "stream",
     "text": [
      "Enter principle amount :10000\n"
     ]
    }
   ],
   "source": [
    "p=int(input(\"Enter principle amount :\"))"
   ]
  },
  {
   "cell_type": "code",
   "execution_count": 28,
   "metadata": {},
   "outputs": [
    {
     "name": "stdout",
     "output_type": "stream",
     "text": [
      "enter interest in % :0.1\n"
     ]
    }
   ],
   "source": [
    "i=float(input(\"Enter interest in % :\"))"
   ]
  },
  {
   "cell_type": "code",
   "execution_count": 29,
   "metadata": {},
   "outputs": [
    {
     "name": "stdout",
     "output_type": "stream",
     "text": [
      "Enter numbers of years :5\n"
     ]
    }
   ],
   "source": [
    "y= int(input(\"Enter numbers of years :\")) "
   ]
  },
  {
   "cell_type": "code",
   "execution_count": 33,
   "metadata": {},
   "outputs": [],
   "source": [
    "total_amount=p*((1+(i)))**y"
   ]
  },
  {
   "cell_type": "code",
   "execution_count": 35,
   "metadata": {},
   "outputs": [
    {
     "name": "stdout",
     "output_type": "stream",
     "text": [
      "after 5 years principle amount 10000 over an interest rate0.1 is 16105.100000000006\n"
     ]
    }
   ],
   "source": [
    "print(f'after {y} years principle amount {p} over an interest rate{i} is {total_amount}' )"
   ]
  },
  {
   "cell_type": "code",
   "execution_count": null,
   "metadata": {},
   "outputs": [],
   "source": []
  },
  {
   "cell_type": "code",
   "execution_count": null,
   "metadata": {},
   "outputs": [],
   "source": []
  },
  {
   "cell_type": "markdown",
   "metadata": {},
   "source": [
    "## 10. Euclidean distance\n",
    "### write a Python program to compute the distance between the points (x1, y1) and (x2, y2).\n",
    "#### Program Console Sample 1:\n",
    "###### Enter Co-ordinate for x1: 2\n",
    "###### Enter Co-ordinate for x2: 4\n",
    "###### Enter Co-ordinate for y1: 4\n",
    "###### Enter Co-ordinate for y2: 4\n",
    "###### Distance between points (2, 4) and (4, 4) is 2"
   ]
  },
  {
   "cell_type": "markdown",
   "metadata": {},
   "source": [
    "###### Reference:\n",
    "https://en.wikipedia.org/wiki/Euclidean_distance"
   ]
  },
  {
   "cell_type": "code",
   "execution_count": 5,
   "metadata": {},
   "outputs": [
    {
     "name": "stdout",
     "output_type": "stream",
     "text": [
      "enter co-ordinate for x1:2\n"
     ]
    }
   ],
   "source": [
    "import cmath\n",
    "x1= int(input('enter co-ordinate for x1:'))"
   ]
  },
  {
   "cell_type": "code",
   "execution_count": 6,
   "metadata": {},
   "outputs": [
    {
     "name": "stdout",
     "output_type": "stream",
     "text": [
      "enter co-ordinate for x2:4\n"
     ]
    }
   ],
   "source": [
    "import cmath\n",
    "x2= int(input('enter co-ordinate for x2:'))"
   ]
  },
  {
   "cell_type": "code",
   "execution_count": 3,
   "metadata": {},
   "outputs": [
    {
     "name": "stdout",
     "output_type": "stream",
     "text": [
      "enter co-ordinate for y1:4\n"
     ]
    }
   ],
   "source": [
    "y1= int(input('enter co-ordinate for y1:'))"
   ]
  },
  {
   "cell_type": "code",
   "execution_count": 7,
   "metadata": {},
   "outputs": [
    {
     "name": "stdout",
     "output_type": "stream",
     "text": [
      "enter co-ordinate for y2:4\n"
     ]
    }
   ],
   "source": [
    "y2= int(input('enter co-ordinate for y2:'))"
   ]
  },
  {
   "cell_type": "code",
   "execution_count": 12,
   "metadata": {},
   "outputs": [],
   "source": [
    "x=(x1-y1)**2+(x2-y2)**2"
   ]
  },
  {
   "cell_type": "code",
   "execution_count": 46,
   "metadata": {
    "scrolled": true
   },
   "outputs": [
    {
     "name": "stdout",
     "output_type": "stream",
     "text": [
      "distance between points (2,4) and (4,4) is 4\n"
     ]
    }
   ],
   "source": [
    "d=cmath.sqrt(x)\n",
    "print(f'distance between points ({x1},{y1}) and ({x2},{y2}) is {x}')"
   ]
  },
  {
   "cell_type": "markdown",
   "metadata": {},
   "source": [
    "## 11. Feet to Centimeter Converter\n",
    "### Write a Python program to convert height in feet to centimetres.\n",
    "##### Program Console Sample 1:\n",
    "###### Enter Height in Feet: 5\n",
    "###### There are 152.4 Cm in 5 ft\n",
    "###### Reference:\n",
    "https://www.rapidtables.com/convert/length/feet-to-cm.html"
   ]
  },
  {
   "cell_type": "code",
   "execution_count": 54,
   "metadata": {},
   "outputs": [
    {
     "name": "stdout",
     "output_type": "stream",
     "text": [
      " enter height in feet:5\n"
     ]
    }
   ],
   "source": [
    "h= float(input(' enter height in feet:'))"
   ]
  },
  {
   "cell_type": "code",
   "execution_count": 63,
   "metadata": {},
   "outputs": [],
   "source": [
    "cm=h*30.48"
   ]
  },
  {
   "cell_type": "code",
   "execution_count": 64,
   "metadata": {},
   "outputs": [
    {
     "name": "stdout",
     "output_type": "stream",
     "text": [
      "There are 152.4 in 5.0 ft\n"
     ]
    }
   ],
   "source": [
    "print(f'There are {cm} in {h} ft')"
   ]
  },
  {
   "cell_type": "code",
   "execution_count": null,
   "metadata": {},
   "outputs": [],
   "source": []
  },
  {
   "cell_type": "code",
   "execution_count": null,
   "metadata": {},
   "outputs": [],
   "source": []
  },
  {
   "cell_type": "code",
   "execution_count": null,
   "metadata": {},
   "outputs": [],
   "source": []
  },
  {
   "cell_type": "markdown",
   "metadata": {},
   "source": [
    "## 12. BMI Calculator\n",
    "### Write a Python program to calculate body mass index\n",
    "##### Program Console Sample 1:\n",
    "###### Enter Height in Cm: 180\n",
    "###### Enter Weight in Kg: 75\n",
    "###### Your BMI is 23.15"
   ]
  },
  {
   "cell_type": "code",
   "execution_count": 22,
   "metadata": {},
   "outputs": [
    {
     "name": "stdout",
     "output_type": "stream",
     "text": [
      "enter height in cm:180\n"
     ]
    }
   ],
   "source": [
    "h= float(input('enter height in cm:'))"
   ]
  },
  {
   "cell_type": "code",
   "execution_count": 21,
   "metadata": {},
   "outputs": [
    {
     "name": "stdout",
     "output_type": "stream",
     "text": [
      "enter weight in Kg:75\n"
     ]
    }
   ],
   "source": [
    "w= float(input('enter weight in Kg:'))"
   ]
  },
  {
   "cell_type": "code",
   "execution_count": 26,
   "metadata": {},
   "outputs": [
    {
     "name": "stdout",
     "output_type": "stream",
     "text": [
      " your BMI is 23.148148148148145\n"
     ]
    }
   ],
   "source": [
    "BMI=w/(h/100)**2\n",
    "print(f' your BMI is {BMI}')"
   ]
  },
  {
   "cell_type": "markdown",
   "metadata": {},
   "source": []
  },
  {
   "cell_type": "markdown",
   "metadata": {},
   "source": [
    "## 13. Sum of n Positive Integers\n",
    "### Write a python program to sum of the first n positive integers\n",
    "#### Program Console Sample 1:\n",
    "###### Enter value of n: 5\n",
    "###### Sum of n Positive integers till 5 is 15"
   ]
  },
  {
   "cell_type": "code",
   "execution_count": 27,
   "metadata": {},
   "outputs": [
    {
     "name": "stdout",
     "output_type": "stream",
     "text": [
      "enter value of n :5\n"
     ]
    }
   ],
   "source": [
    "n= int(input('enter value of n :'))"
   ]
  },
  {
   "cell_type": "code",
   "execution_count": 69,
   "metadata": {},
   "outputs": [
    {
     "name": "stdout",
     "output_type": "stream",
     "text": [
      "15\n",
      "sum of n positive integers till 5 is 15\n"
     ]
    }
   ],
   "source": [
    "sumN = 0\n",
    "for i in range(0,n+1):\n",
    "    sumN= i+sumN\n",
    "print (sumN)\n",
    "print(\"sum of n positive integers till {} is {}\".format(n,sumN))"
   ]
  },
  {
   "cell_type": "code",
   "execution_count": null,
   "metadata": {},
   "outputs": [],
   "source": []
  },
  {
   "cell_type": "markdown",
   "metadata": {},
   "source": [
    "# 14. Digits Sum of a Number\n",
    " Write a Python program to calculate the sum of the digits in an integer\n",
    "Program Console Sample 1:\n",
    " Enter a number: 15\n",
    "Sum of 1 + 5 is 6\n",
    " Program Console Sample 2:\n",
    "Enter a number: 1234\n",
    " Sum of 1 + 2 + 3 + 4 is 10"
   ]
  },
  {
   "cell_type": "code",
   "execution_count": 8,
   "metadata": {},
   "outputs": [
    {
     "name": "stdout",
     "output_type": "stream",
     "text": [
      "Enter a number:15\n",
      " sum of the 15 is : 1\n",
      " sum of the 15 is : 6\n"
     ]
    }
   ],
   "source": [
    "n = input(\"Enter a number:\")\n",
    "sum = 0\n",
    "for k in n:\n",
    "    sum += int(k)\n",
    "    print(f\" sum of the {n} is :\", sum)\n",
    "              "
   ]
  },
  {
   "cell_type": "code",
   "execution_count": 10,
   "metadata": {},
   "outputs": [
    {
     "name": "stdout",
     "output_type": "stream",
     "text": [
      "Enter a number :1234\n",
      " sum of the 1234 is: 1\n",
      " sum of the 1234 is: 3\n",
      " sum of the 1234 is: 6\n",
      " sum of the 1234 is: 10\n"
     ]
    }
   ],
   "source": [
    "n =input(\"Enter a number :\")\n",
    "sum =0\n",
    "for k in n:\n",
    "    sum += int(k)\n",
    "    print(f\" sum of the {n} is:\",sum)\n",
    "         "
   ]
  },
  {
   "cell_type": "code",
   "execution_count": null,
   "metadata": {},
   "outputs": [],
   "source": []
  }
 ],
 "metadata": {
  "kernelspec": {
   "display_name": "Python 3",
   "language": "python",
   "name": "python3"
  },
  "language_info": {
   "codemirror_mode": {
    "name": "ipython",
    "version": 3
   },
   "file_extension": ".py",
   "mimetype": "text/x-python",
   "name": "python",
   "nbconvert_exporter": "python",
   "pygments_lexer": "ipython3",
   "version": "3.7.3"
  }
 },
 "nbformat": 4,
 "nbformat_minor": 2
}
