{
 "cells": [
  {
   "cell_type": "code",
   "execution_count": 1,
   "metadata": {},
   "outputs": [
    {
     "name": "stdout",
     "output_type": "stream",
     "text": [
      "hello world\n"
     ]
    }
   ],
   "source": [
    "print (\"hello world\")"
   ]
  },
  {
   "cell_type": "code",
   "execution_count": 2,
   "metadata": {},
   "outputs": [
    {
     "name": "stdout",
     "output_type": "stream",
     "text": [
      "hello student\n"
     ]
    }
   ],
   "source": [
    "print ('hello student')\n",
    "    "
   ]
  },
  {
   "cell_type": "code",
   "execution_count": null,
   "metadata": {},
   "outputs": [],
   "source": [
    "print (\"hello girls\" ,sep=)"
   ]
  },
  {
   "cell_type": "code",
   "execution_count": null,
   "metadata": {},
   "outputs": [],
   "source": [
    "print (\"i love my country\" ,sep ='$' )"
   ]
  },
  {
   "cell_type": "markdown",
   "metadata": {},
   "source": [
    "# format pratice"
   ]
  },
  {
   "cell_type": "code",
   "execution_count": 26,
   "metadata": {},
   "outputs": [
    {
     "name": "stdout",
     "output_type": "stream",
     "text": [
      " My name is Asad  I gain marks 78\n"
     ]
    }
   ],
   "source": [
    "name = \"Asad\" \n",
    "marks = 78\n",
    "print(\" My name is \" + name + \"  I gain marks \" + str (marks))"
   ]
  },
  {
   "cell_type": "code",
   "execution_count": 27,
   "metadata": {},
   "outputs": [
    {
     "name": "stdout",
     "output_type": "stream",
     "text": [
      " my name is Asad and I gain marks 78\n"
     ]
    }
   ],
   "source": [
    "print(\" my name is \"+ name + \" and I gain marks \"+ str(marks))"
   ]
  },
  {
   "cell_type": "code",
   "execution_count": 28,
   "metadata": {},
   "outputs": [
    {
     "name": "stdout",
     "output_type": "stream",
     "text": [
      "i am girl and my age is 27\n"
     ]
    }
   ],
   "source": [
    "gender = \"girl\"\n",
    "age = 27\n",
    "print(\"i am \" + gender + \" and my age is \"+ str(age))"
   ]
  },
  {
   "cell_type": "code",
   "execution_count": 31,
   "metadata": {},
   "outputs": [
    {
     "name": "stdout",
     "output_type": "stream",
     "text": [
      "i am girl and my age is 27.\n"
     ]
    }
   ],
   "source": [
    "print(\"i am {} and my age is {}.\".format(gender,age))"
   ]
  },
  {
   "cell_type": "code",
   "execution_count": 32,
   "metadata": {},
   "outputs": [
    {
     "name": "stdout",
     "output_type": "stream",
     "text": [
      " His name is saad,he lives in Karchi and he erans Rs1500.\n"
     ]
    }
   ],
   "source": [
    "name = \"saad\"\n",
    "live = \"Karchi\"\n",
    "earn = 1500\n",
    "print(\" His name is {},he lives in {} and he erans Rs{}.\".format(name,live,earn))"
   ]
  },
  {
   "cell_type": "code",
   "execution_count": 34,
   "metadata": {},
   "outputs": [
    {
     "name": "stdout",
     "output_type": "stream",
     "text": [
      "my name is Sumaira and my age is 43 i am learning python and my moto is i will do it.\n"
     ]
    }
   ],
   "source": [
    "name = \"Sumaira\"\n",
    "age =43\n",
    "work = \"learning python\"\n",
    "moto =\"i will do it\"\n",
    "print(\"my name is {} and my age is {} i am {} and my moto is {}.\" . format(name,age,work,moto))"
   ]
  },
  {
   "cell_type": "code",
   "execution_count": 36,
   "metadata": {},
   "outputs": [
    {
     "name": "stdout",
     "output_type": "stream",
     "text": [
      "My name is Sumaira and my age 43 I am learning python and my moto is i will do it.\n"
     ]
    }
   ],
   "source": [
    "print(f\"My name is {name} and my age {age} I am {work} and my moto is {moto}.\")"
   ]
  },
  {
   "cell_type": "code",
   "execution_count": 4,
   "metadata": {},
   "outputs": [
    {
     "name": "stdout",
     "output_type": "stream",
     "text": [
      "Enter the room cooling40\n",
      "room is chill\n"
     ]
    }
   ],
   "source": [
    "cooling = int(input(\"Enter the room cooling\"))\n",
    "           \n",
    "if cooling>30:\n",
    "    print(\"room is chill\")\n",
    "else:\n",
    "    print(\"room is not chill\")"
   ]
  },
  {
   "cell_type": "code",
   "execution_count": 6,
   "metadata": {},
   "outputs": [
    {
     "name": "stdout",
     "output_type": "stream",
     "text": [
      "Enter the Marks90\n",
      "marks are good\n"
     ]
    }
   ],
   "source": [
    "Marks = int(input(\"Enter the Marks\"))\n",
    "\n",
    "if Marks>80:\n",
    "    print(\"marks are good\")\n",
    "else:\n",
    "    print(\"marks are not good\")"
   ]
  },
  {
   "cell_type": "code",
   "execution_count": 8,
   "metadata": {},
   "outputs": [
    {
     "name": "stdout",
     "output_type": "stream",
     "text": [
      "Enter the good Speed197\n",
      "Speed is slow\n"
     ]
    }
   ],
   "source": [
    "Speed = int(input(\"Enter the good Speed\"))\n",
    "\n",
    "if Speed>200:\n",
    "    print(\"Speed is fast\")\n",
    "else:\n",
    "    print(\"Speed is slow\")"
   ]
  },
  {
   "cell_type": "code",
   "execution_count": 1,
   "metadata": {},
   "outputs": [
    {
     "name": "stdout",
     "output_type": "stream",
     "text": [
      "Do you have student card?yes\n",
      "enter in th hall\n",
      "your name is presentno\n",
      "you cannot cast your vote\n"
     ]
    }
   ],
   "source": [
    "student_card = input(\"Do you have student card?\")\n",
    "if student_card =='yes':\n",
    "    print(\"enter in th hall\")\n",
    "name_list = input(\"your name is present\")\n",
    "if name_list =='yes':\n",
    "    \n",
    "    print(\"cast your vote\")\n",
    "else:\n",
    "    print(\"you cannot cast your vote\")\n",
    "    \n",
    "\n"
   ]
  },
  {
   "cell_type": "code",
   "execution_count": 4,
   "metadata": {},
   "outputs": [
    {
     "name": "stdout",
     "output_type": "stream",
     "text": [
      "enter the vowelsj\n",
      "this is not vowel\n"
     ]
    }
   ],
   "source": [
    "v = str(input(\"enter the vowels\"))\n",
    "if v == 'a':\n",
    "    print(\"this is vowel\")\n",
    "if v == 'e':\n",
    "    print(\"this is vowel\")\n",
    "if v == 'i':\n",
    "    print(\"this is vowel\")\n",
    "if v =='o':\n",
    "    print(\"this is vowel\")\n",
    "if v == 'u':\n",
    "    print(\"this is vowel\")\n",
    "else:\n",
    "    print(\"this is not vowel\")"
   ]
  },
  {
   "cell_type": "code",
   "execution_count": null,
   "metadata": {},
   "outputs": [],
   "source": [
    "marks = int(input(\"enter the marks:\"))\n",
    "print (\"testing\")\n",
    "if marks >=90:\n",
    "    grade =\" A*\"\n",
    "elif marks >=80:\n",
    "    grade =\" A\"  \n",
    "elif marks >=70:\n",
    "    grade =\" B\"\n",
    "elif marks >=60:\n",
    "    grade =\" C\"\n",
    "else:\n",
    "    print(\"you are not passed\") \n",
    "print(f\"your marks is{marks} and your grade is {grade}\")\n"
   ]
  },
  {
   "cell_type": "code",
   "execution_count": null,
   "metadata": {},
   "outputs": [],
   "source": [
    "marks = int(input(\"Enter your marks:\"))\n",
    "grade = \" \"#c\n",
    "if marks>=90:\n",
    "    grade = \"A*\"\n",
    "elif marks >=80:\n",
    "    grade = \"A\"\n",
    "elif marks >=70:\n",
    "    grade = \"B\"             #ifanyone is ture tham it will run\n",
    "elif marks >= 60:\n",
    "    grade = \"C\"\n",
    "elif marks>=50:\n",
    "    grade = \"D\"\n",
    "else:\n",
    "    print(\"you are ungraded please try again\")\n",
    "print(f\"your marks are {marks} and your grade is {grade}\")"
   ]
  },
  {
   "cell_type": "code",
   "execution_count": null,
   "metadata": {},
   "outputs": [],
   "source": []
  }
 ],
 "metadata": {
  "kernelspec": {
   "display_name": "Python 3",
   "language": "python",
   "name": "python3"
  },
  "language_info": {
   "codemirror_mode": {
    "name": "ipython",
    "version": 3
   },
   "file_extension": ".py",
   "mimetype": "text/x-python",
   "name": "python",
   "nbconvert_exporter": "python",
   "pygments_lexer": "ipython3",
   "version": "3.7.3"
  }
 },
 "nbformat": 4,
 "nbformat_minor": 2
}
