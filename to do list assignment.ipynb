{
 "cells": [
  {
   "cell_type": "markdown",
   "metadata": {},
   "source": [
    "# 6/6/19\n"
   ]
  },
  {
   "cell_type": "code",
   "execution_count": 30,
   "metadata": {},
   "outputs": [
    {
     "name": "stdout",
     "output_type": "stream",
     "text": [
      "['Cook Breakfast', 'make call', 'clean room', 'wash cloths', 'make tea', 'water plants', 'car wash']\n"
     ]
    }
   ],
   "source": [
    "home_tasks = ts\"[\"Cook Breakfast\",\"make call\", \"clean room\", \"wash cloths\",\"make tea\",\"water plan]\n",
    "home_tasks.append(\"car wash\")\n",
    "print(home_tasks)"
   ]
  },
  {
   "cell_type": "markdown",
   "metadata": {},
   "source": [
    "# insert"
   ]
  },
  {
   "cell_type": "code",
   "execution_count": 31,
   "metadata": {},
   "outputs": [
    {
     "name": "stdout",
     "output_type": "stream",
     "text": [
      "['Cook Breakfast', 'make call', 'clean room', 'wash cloths', 'make tea', 'water plants', 'car wash']\n",
      "['Cook Breakfast', 'make call', 'clean room', 'wash cloths', 'car wash', 'make tea', 'water plants', 'car wash']\n"
     ]
    }
   ],
   "source": [
    "print (home_tasks)\n",
    "home_tasks.insert(4,\"car wash\")\n",
    "print(home_tasks)                  "
   ]
  },
  {
   "cell_type": "code",
   "execution_count": 32,
   "metadata": {},
   "outputs": [
    {
     "name": "stdout",
     "output_type": "stream",
     "text": [
      "['Cook Breakfast', 'make call', 'clean room', 'wash cloths', 'car wash', 'make tea', 'water plants', 'car wash']\n",
      "['Cook Breakfast', 'make call', 'car wash', 'wash cloths', 'car wash', 'make tea', 'water plants', 'car wash']\n"
     ]
    }
   ],
   "source": [
    "print (home_tasks)\n",
    "home_tasks[2]=\"car wash\"\n",
    "print(home_tasks)"
   ]
  },
  {
   "cell_type": "markdown",
   "metadata": {},
   "source": [
    "# deleting element"
   ]
  },
  {
   "cell_type": "code",
   "execution_count": 34,
   "metadata": {},
   "outputs": [
    {
     "name": "stdout",
     "output_type": "stream",
     "text": [
      "['Cook Breakfast', 'make call', 'car wash', 'wash cloths', 'car wash', 'make tea', 'water plants', 'car wash']\n",
      "['Cook Breakfast', 'make call', 'car wash', 'wash cloths', 'make tea', 'water plants', 'car wash']\n"
     ]
    }
   ],
   "source": [
    "\n",
    "print (home_tasks)\n",
    "del home_tasks[4]\n",
    "print(home_tasks)"
   ]
  },
  {
   "cell_type": "code",
   "execution_count": 35,
   "metadata": {
    "scrolled": true
   },
   "outputs": [
    {
     "name": "stdout",
     "output_type": "stream",
     "text": [
      "['Cook Breakfast', 'make call', 'car wash', 'wash cloths', 'make tea', 'water plants', 'car wash']\n",
      "['Cook Breakfast', 'make call', 'car wash', 'wash cloths', 'make tea', 'car wash']\n"
     ]
    }
   ],
   "source": [
    "print (home_tasks)\n",
    "home_tasks.remove('water plants')\n",
    "print (home_tasks)"
   ]
  },
  {
   "cell_type": "code",
   "execution_count": 37,
   "metadata": {},
   "outputs": [
    {
     "name": "stdout",
     "output_type": "stream",
     "text": [
      "['Cook Breakfast', 'make call', 'car wash', 'wash cloths', 'make tea', 'car wash']\n"
     ]
    },
    {
     "data": {
      "text/plain": [
       "'make tea'"
      ]
     },
     "execution_count": 37,
     "metadata": {},
     "output_type": "execute_result"
    }
   ],
   "source": [
    "print(home_tasks)\n",
    "home_tasks.pop(4)"
   ]
  },
  {
   "cell_type": "code",
   "execution_count": 2,
   "metadata": {},
   "outputs": [
    {
     "name": "stdout",
     "output_type": "stream",
     "text": [
      "Whats your list[\"Cook Breakfast\",\"make call\", \"clean room\", \"wash cloths\",\"make tea\",\"water plan\n",
      "Do you want to pop, append, remove, insert, delete your taskappend\n",
      " what index you want to append?2\n"
     ]
    }
   ],
   "source": [
    "list_task = input(\"Whats your list\")\n",
    "tasks = input(\"Do you want to pop, append, remove, insert, delete your task\").lower()\n",
    "if tasks == 'pop':\n",
    "    indx = int(input (\"at what index you want to pop?\"))\n",
    "    if indx <= list_task.len():\n",
    "        list_task.pop(indx)\n",
    "elif tasks == 'append':\n",
    "    indx = int(input(\" what index you want to append?\")) \n",
    "elif tasks == 'remove':\n",
    "    indx = int(input(\"which index you want to remove?\"))"
   ]
  },
  {
   "cell_type": "code",
   "execution_count": null,
   "metadata": {},
   "outputs": [],
   "source": []
  },
  {
   "cell_type": "code",
   "execution_count": null,
   "metadata": {},
   "outputs": [],
   "source": []
  },
  {
   "cell_type": "code",
   "execution_count": null,
   "metadata": {},
   "outputs": [],
   "source": []
  }
 ],
 "metadata": {
  "kernelspec": {
   "display_name": "Python 3",
   "language": "python",
   "name": "python3"
  },
  "language_info": {
   "codemirror_mode": {
    "name": "ipython",
    "version": 3
   },
   "file_extension": ".py",
   "mimetype": "text/x-python",
   "name": "python",
   "nbconvert_exporter": "python",
   "pygments_lexer": "ipython3",
   "version": "3.7.3"
  }
 },
 "nbformat": 4,
 "nbformat_minor": 2
}
